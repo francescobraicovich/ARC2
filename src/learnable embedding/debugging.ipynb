{
 "cells": [
  {
   "cell_type": "code",
   "execution_count": 1,
   "metadata": {
    "vscode": {
     "languageId": "ruby"
    }
   },
   "outputs": [
    {
     "name": "stdout",
     "output_type": "stream",
     "text": [
      "Using device: mps for world_model/transformer.py\n",
      "Using device: {'mps'}\n",
      "embedded_action shape: torch.Size([2, 5, 32])\n",
      "embedded_state shape: torch.Size([2, 8, 32])\n"
     ]
    }
   ],
   "source": [
    "import torch\n",
    "from transition_decoder import DecoderTransformerConfig, DecoderTransformerTorch\n",
    "\n",
    "# Create dummy config\n",
    "config = DecoderTransformerConfig(\n",
    "    emb_dim=32, # embedding dimension\n",
    "    num_heads=4,\n",
    "    attention_dropout_rate=0.1,\n",
    "    dropout_rate=0.1,\n",
    "    mlp_dim_factor=4,\n",
    "    activation= 'relu' ,\n",
    "    use_bias=True,\n",
    "    max_rows=30,\n",
    "    max_cols=30,\n",
    "    vocab_size=10,\n",
    "    num_layers=2\n",
    ")\n",
    "\n",
    "# For testing purposes, assign transformer_layer attribute\n",
    "config.transformer_layer = config\n",
    "\n",
    "decoder = DecoderTransformerTorch(config)\n",
    "decoder.eval()  # set evaluation mode\n",
    "\n",
    "# Create dummy inputs\n",
    "B = 2\n",
    "T_action = 5\n",
    "T_state = 8  # ensure T_state >= 3 for grid tokens\n",
    "embedded_action = torch.randn(B, T_action, config.emb_dim) \n",
    "embedded_state = torch.randn(B, T_state, config.emb_dim) \n",
    "\n",
    "device = 'mps' if torch.backends.mps.is_available() else 'cpu'\n",
    "print(f'Using device:' , {device})\n",
    "\n",
    "decoder = decoder.to(device)\n",
    "embedded_action = embedded_action.to(device)\n",
    "embedded_state = embedded_state.to(device)\n",
    "\n",
    "# Run forward\n",
    "shape_row_logits, shape_col_logits, grid_logits = decoder(embedded_action, embedded_state, dropout_eval=True)\n"
   ]
  },
  {
   "cell_type": "code",
   "execution_count": 2,
   "metadata": {
    "vscode": {
     "languageId": "ruby"
    }
   },
   "outputs": [
    {
     "name": "stdout",
     "output_type": "stream",
     "text": [
      "All tests passed!\n"
     ]
    }
   ],
   "source": [
    "# Expected output shapes\n",
    "assert shape_row_logits.shape == (B, config.max_rows), f\"Expected shape_row_logits {(B, config.max_rows)}, got {shape_row_logits.shape}\"\n",
    "assert shape_col_logits.shape == (B, config.max_cols), f\"Expected shape_col_logits {(B, config.max_cols)}, got {shape_col_logits.shape}\"\n",
    "expected_grid_tokens = (T_action + T_state) - (T_action + 3)\n",
    "assert grid_logits.shape == (B, expected_grid_tokens, config.vocab_size), f\"Expected grid_logits {(B, expected_grid_tokens, config.vocab_size)}, got {grid_logits.shape}\"\n",
    "\n",
    "print('All tests passed!')"
   ]
  }
 ],
 "metadata": {
  "kernelspec": {
   "display_name": "Env_for_ARC",
   "language": "python",
   "name": "python3"
  },
  "language_info": {
   "codemirror_mode": {
    "name": "ipython",
    "version": 3
   },
   "file_extension": ".py",
   "mimetype": "text/x-python",
   "name": "python",
   "nbconvert_exporter": "python",
   "pygments_lexer": "ipython3",
   "version": "3.12.2"
  }
 },
 "nbformat": 4,
 "nbformat_minor": 2
}
