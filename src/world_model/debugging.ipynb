{
 "cells": [
  {
   "cell_type": "code",
   "execution_count": null,
   "metadata": {},
   "outputs": [],
   "source": [
    "from action_embed import ActionEmbedding\n",
    "import torch\n",
    "\n",
    "embedder = ActionEmbedding(num_actions=10000, embed_dim=128, normalize=True, dropout=0.1)\n",
    "\n",
    "action_index = 42\n",
    "embedded_action = embedder(action_index)  # shape: [128]\n",
    "print(embedded_action.shape)\n",
    "print(embedded_action)\n",
    "\n",
    "batch_actions = torch.tensor([1, 5, 42])\n",
    "embedded_batch = embedder(batch_actions)  # shape: [3, 128]\n",
    "print(embedded_batch.shape)\n",
    "print(embedded_batch)\n"
   ]
  },
  {
   "cell_type": "code",
   "execution_count": null,
   "metadata": {},
   "outputs": [
    {
     "name": "stdout",
     "output_type": "stream",
     "text": [
      "Using device: mps for world_model/transformer.py\n",
      "Using device: {'mps'}\n",
      "embedded_action shape: torch.Size([5, 32])\n",
      "embedded_state shape: torch.Size([8, 32])\n"
     ]
    },
    {
     "ename": "AssertionError",
     "evalue": "Both inputs must be 3D tensors (batch, seq_len, emb_dim)",
     "output_type": "error",
     "traceback": [
      "\u001b[0;31m---------------------------------------------------------------------------\u001b[0m",
      "\u001b[0;31mAssertionError\u001b[0m                            Traceback (most recent call last)",
      "Cell \u001b[0;32mIn[1], line 40\u001b[0m\n\u001b[1;32m     37\u001b[0m embedded_state \u001b[38;5;241m=\u001b[39m embedded_state\u001b[38;5;241m.\u001b[39mto(device)\n\u001b[1;32m     39\u001b[0m \u001b[38;5;66;03m# Run forward\u001b[39;00m\n\u001b[0;32m---> 40\u001b[0m shape_row_logits, shape_col_logits, grid_logits \u001b[38;5;241m=\u001b[39m \u001b[43mdecoder\u001b[49m\u001b[43m(\u001b[49m\u001b[43membedded_action\u001b[49m\u001b[43m,\u001b[49m\u001b[43m \u001b[49m\u001b[43membedded_state\u001b[49m\u001b[43m,\u001b[49m\u001b[43m \u001b[49m\u001b[43mdropout_eval\u001b[49m\u001b[38;5;241;43m=\u001b[39;49m\u001b[38;5;28;43;01mTrue\u001b[39;49;00m\u001b[43m)\u001b[49m\n",
      "File \u001b[0;32m/opt/anaconda3/envs/Env_for_ARC/lib/python3.12/site-packages/torch/nn/modules/module.py:1739\u001b[0m, in \u001b[0;36mModule._wrapped_call_impl\u001b[0;34m(self, *args, **kwargs)\u001b[0m\n\u001b[1;32m   1737\u001b[0m     \u001b[38;5;28;01mreturn\u001b[39;00m \u001b[38;5;28mself\u001b[39m\u001b[38;5;241m.\u001b[39m_compiled_call_impl(\u001b[38;5;241m*\u001b[39margs, \u001b[38;5;241m*\u001b[39m\u001b[38;5;241m*\u001b[39mkwargs)  \u001b[38;5;66;03m# type: ignore[misc]\u001b[39;00m\n\u001b[1;32m   1738\u001b[0m \u001b[38;5;28;01melse\u001b[39;00m:\n\u001b[0;32m-> 1739\u001b[0m     \u001b[38;5;28;01mreturn\u001b[39;00m \u001b[38;5;28;43mself\u001b[39;49m\u001b[38;5;241;43m.\u001b[39;49m\u001b[43m_call_impl\u001b[49m\u001b[43m(\u001b[49m\u001b[38;5;241;43m*\u001b[39;49m\u001b[43margs\u001b[49m\u001b[43m,\u001b[49m\u001b[43m \u001b[49m\u001b[38;5;241;43m*\u001b[39;49m\u001b[38;5;241;43m*\u001b[39;49m\u001b[43mkwargs\u001b[49m\u001b[43m)\u001b[49m\n",
      "File \u001b[0;32m/opt/anaconda3/envs/Env_for_ARC/lib/python3.12/site-packages/torch/nn/modules/module.py:1750\u001b[0m, in \u001b[0;36mModule._call_impl\u001b[0;34m(self, *args, **kwargs)\u001b[0m\n\u001b[1;32m   1745\u001b[0m \u001b[38;5;66;03m# If we don't have any hooks, we want to skip the rest of the logic in\u001b[39;00m\n\u001b[1;32m   1746\u001b[0m \u001b[38;5;66;03m# this function, and just call forward.\u001b[39;00m\n\u001b[1;32m   1747\u001b[0m \u001b[38;5;28;01mif\u001b[39;00m \u001b[38;5;129;01mnot\u001b[39;00m (\u001b[38;5;28mself\u001b[39m\u001b[38;5;241m.\u001b[39m_backward_hooks \u001b[38;5;129;01mor\u001b[39;00m \u001b[38;5;28mself\u001b[39m\u001b[38;5;241m.\u001b[39m_backward_pre_hooks \u001b[38;5;129;01mor\u001b[39;00m \u001b[38;5;28mself\u001b[39m\u001b[38;5;241m.\u001b[39m_forward_hooks \u001b[38;5;129;01mor\u001b[39;00m \u001b[38;5;28mself\u001b[39m\u001b[38;5;241m.\u001b[39m_forward_pre_hooks\n\u001b[1;32m   1748\u001b[0m         \u001b[38;5;129;01mor\u001b[39;00m _global_backward_pre_hooks \u001b[38;5;129;01mor\u001b[39;00m _global_backward_hooks\n\u001b[1;32m   1749\u001b[0m         \u001b[38;5;129;01mor\u001b[39;00m _global_forward_hooks \u001b[38;5;129;01mor\u001b[39;00m _global_forward_pre_hooks):\n\u001b[0;32m-> 1750\u001b[0m     \u001b[38;5;28;01mreturn\u001b[39;00m \u001b[43mforward_call\u001b[49m\u001b[43m(\u001b[49m\u001b[38;5;241;43m*\u001b[39;49m\u001b[43margs\u001b[49m\u001b[43m,\u001b[49m\u001b[43m \u001b[49m\u001b[38;5;241;43m*\u001b[39;49m\u001b[38;5;241;43m*\u001b[39;49m\u001b[43mkwargs\u001b[49m\u001b[43m)\u001b[49m\n\u001b[1;32m   1752\u001b[0m result \u001b[38;5;241m=\u001b[39m \u001b[38;5;28;01mNone\u001b[39;00m\n\u001b[1;32m   1753\u001b[0m called_always_called_hooks \u001b[38;5;241m=\u001b[39m \u001b[38;5;28mset\u001b[39m()\n",
      "File \u001b[0;32m~/Documents/Documents - Vittorio MacBook Pro/GitHub/ARC2/src/learnable embedding/transition_decoder.py:159\u001b[0m, in \u001b[0;36mDecoderTransformerTorch.forward\u001b[0;34m(self, embedded_action, embedded_state, dropout_eval)\u001b[0m\n\u001b[1;32m    156\u001b[0m \u001b[38;5;28mprint\u001b[39m(\u001b[38;5;124mf\u001b[39m\u001b[38;5;124m\"\u001b[39m\u001b[38;5;124membedded_action shape: \u001b[39m\u001b[38;5;132;01m{\u001b[39;00membedded_action\u001b[38;5;241m.\u001b[39mshape\u001b[38;5;132;01m}\u001b[39;00m\u001b[38;5;124m\"\u001b[39m)\n\u001b[1;32m    157\u001b[0m \u001b[38;5;28mprint\u001b[39m(\u001b[38;5;124mf\u001b[39m\u001b[38;5;124m\"\u001b[39m\u001b[38;5;124membedded_state shape: \u001b[39m\u001b[38;5;132;01m{\u001b[39;00membedded_state\u001b[38;5;241m.\u001b[39mshape\u001b[38;5;132;01m}\u001b[39;00m\u001b[38;5;124m\"\u001b[39m)\n\u001b[0;32m--> 159\u001b[0m \u001b[38;5;28;01massert\u001b[39;00m embedded_action\u001b[38;5;241m.\u001b[39mdim() \u001b[38;5;241m==\u001b[39m \u001b[38;5;241m3\u001b[39m \u001b[38;5;129;01mand\u001b[39;00m embedded_state\u001b[38;5;241m.\u001b[39mdim() \u001b[38;5;241m==\u001b[39m \u001b[38;5;241m3\u001b[39m, \u001b[38;5;124m\"\u001b[39m\u001b[38;5;124mBoth inputs must be 3D tensors (batch, seq_len, emb_dim)\u001b[39m\u001b[38;5;124m\"\u001b[39m\n\u001b[1;32m    160\u001b[0m x \u001b[38;5;241m=\u001b[39m torch\u001b[38;5;241m.\u001b[39mcat([embedded_action, embedded_state], dim\u001b[38;5;241m=\u001b[39m\u001b[38;5;241m1\u001b[39m)\n\u001b[1;32m    162\u001b[0m \u001b[38;5;66;03m# Pass through transformer layers\u001b[39;00m\n",
      "\u001b[0;31mAssertionError\u001b[0m: Both inputs must be 3D tensors (batch, seq_len, emb_dim)"
     ]
    }
   ],
   "source": [
    "import torch\n",
    "from transition_decoder import DecoderTransformerConfig, DecoderTransformerTorch\n",
    "\n",
    "# Create dummy config\n",
    "config = DecoderTransformerConfig(\n",
    "    emb_dim=32, # embedding dimension\n",
    "    num_heads=4,\n",
    "    attention_dropout_rate=0.1,\n",
    "    dropout_rate=0.1,\n",
    "    mlp_dim_factor=4,\n",
    "    activation= 'relu' ,\n",
    "    use_bias=True,\n",
    "    max_rows=30,\n",
    "    max_cols=30,\n",
    "    vocab_size=10,\n",
    "    num_layers=2\n",
    ")\n",
    "\n",
    "# For testing purposes, assign transformer_layer attribute\n",
    "config.transformer_layer = config\n",
    "\n",
    "decoder = DecoderTransformerTorch(config)\n",
    "decoder.eval()  # set evaluation mode\n",
    "\n",
    "embedded_action = torch.randn(1,config.emb_dim) \n",
    "embedded_state = torch.randn(1,config.emb_dim) \n",
    "\n",
    "device = 'mps' if torch.backends.mps.is_available() else 'cpu'\n",
    "print(f'Using device:' , {device})\n",
    "\n",
    "decoder = decoder.to(device)\n",
    "embedded_action = embedded_action.to(device)\n",
    "embedded_state = embedded_state.to(device)\n",
    "\n",
    "# Run forward\n",
    "shape_row_logits, shape_col_logits, grid_logits = decoder(embedded_action, embedded_state, dropout_eval=True)\n"
   ]
  },
  {
   "cell_type": "code",
   "execution_count": 4,
   "metadata": {},
   "outputs": [
    {
     "name": "stdout",
     "output_type": "stream",
     "text": [
      "All tests passed!\n"
     ]
    }
   ],
   "source": [
    "# Expected output shapes\n",
    "assert shape_row_logits.shape == (B, config.max_rows), f\"Expected shape_row_logits {(B, config.max_rows)}, got {shape_row_logits.shape}\"\n",
    "assert shape_col_logits.shape == (B, config.max_cols), f\"Expected shape_col_logits {(B, config.max_cols)}, got {shape_col_logits.shape}\"\n",
    "expected_grid_tokens = (T_action + T_state) - (T_action + 3)\n",
    "assert grid_logits.shape == (B, expected_grid_tokens, config.vocab_size), f\"Expected grid_logits {(B, expected_grid_tokens, config.vocab_size)}, got {grid_logits.shape}\"\n",
    "\n",
    "print('All tests passed!')"
   ]
  }
 ],
 "metadata": {
  "kernelspec": {
   "display_name": ".venv",
   "language": "python",
   "name": "python3"
  },
  "language_info": {
   "codemirror_mode": {
    "name": "ipython",
    "version": 3
   },
   "file_extension": ".py",
   "mimetype": "text/x-python",
   "name": "python",
   "nbconvert_exporter": "python",
   "pygments_lexer": "ipython3",
   "version": "3.12.7"
  }
 },
 "nbformat": 4,
 "nbformat_minor": 2
}
